{
  "nbformat": 4,
  "nbformat_minor": 0,
  "metadata": {
    "colab": {
      "name": "Blog Clasificación de imágenes con redes profundas.ipynb",
      "provenance": []
    },
    "kernelspec": {
      "name": "python3",
      "display_name": "Python 3"
    },
    "language_info": {
      "name": "python"
    },
    "widgets": {
      "application/vnd.jupyter.widget-state+json": {
        "cfc7401c56b14e14b9a853e66bee26b4": {
          "model_module": "@jupyter-widgets/controls",
          "model_name": "HBoxModel",
          "model_module_version": "1.5.0",
          "state": {
            "_view_name": "HBoxView",
            "_dom_classes": [],
            "_model_name": "HBoxModel",
            "_view_module": "@jupyter-widgets/controls",
            "_model_module_version": "1.5.0",
            "_view_count": null,
            "_view_module_version": "1.5.0",
            "box_style": "",
            "layout": "IPY_MODEL_35eabce6adfd48708ffa2a15bac0dabd",
            "_model_module": "@jupyter-widgets/controls",
            "children": [
              "IPY_MODEL_e925c5d5c8874c9d89bd8aa76cb441af",
              "IPY_MODEL_10f8a4b0338c4c408f27bf3468d7f32f",
              "IPY_MODEL_67d8e247be7449e1af3fb3688215083a"
            ]
          }
        },
        "35eabce6adfd48708ffa2a15bac0dabd": {
          "model_module": "@jupyter-widgets/base",
          "model_name": "LayoutModel",
          "model_module_version": "1.2.0",
          "state": {
            "_view_name": "LayoutView",
            "grid_template_rows": null,
            "right": null,
            "justify_content": null,
            "_view_module": "@jupyter-widgets/base",
            "overflow": null,
            "_model_module_version": "1.2.0",
            "_view_count": null,
            "flex_flow": null,
            "width": null,
            "min_width": null,
            "border": null,
            "align_items": null,
            "bottom": null,
            "_model_module": "@jupyter-widgets/base",
            "top": null,
            "grid_column": null,
            "overflow_y": null,
            "overflow_x": null,
            "grid_auto_flow": null,
            "grid_area": null,
            "grid_template_columns": null,
            "flex": null,
            "_model_name": "LayoutModel",
            "justify_items": null,
            "grid_row": null,
            "max_height": null,
            "align_content": null,
            "visibility": null,
            "align_self": null,
            "height": null,
            "min_height": null,
            "padding": null,
            "grid_auto_rows": null,
            "grid_gap": null,
            "max_width": null,
            "order": null,
            "_view_module_version": "1.2.0",
            "grid_template_areas": null,
            "object_position": null,
            "object_fit": null,
            "grid_auto_columns": null,
            "margin": null,
            "display": null,
            "left": null
          }
        },
        "e925c5d5c8874c9d89bd8aa76cb441af": {
          "model_module": "@jupyter-widgets/controls",
          "model_name": "HTMLModel",
          "model_module_version": "1.5.0",
          "state": {
            "_view_name": "HTMLView",
            "style": "IPY_MODEL_3ab1667b9188479690745e7f0378664b",
            "_dom_classes": [],
            "description": "",
            "_model_name": "HTMLModel",
            "placeholder": "​",
            "_view_module": "@jupyter-widgets/controls",
            "_model_module_version": "1.5.0",
            "value": "100%",
            "_view_count": null,
            "_view_module_version": "1.5.0",
            "description_tooltip": null,
            "_model_module": "@jupyter-widgets/controls",
            "layout": "IPY_MODEL_e64e81a2be6d42e7abde216fd5d89a1a"
          }
        },
        "10f8a4b0338c4c408f27bf3468d7f32f": {
          "model_module": "@jupyter-widgets/controls",
          "model_name": "FloatProgressModel",
          "model_module_version": "1.5.0",
          "state": {
            "_view_name": "ProgressView",
            "style": "IPY_MODEL_f5240c2b596a4a9681b5cd976934df7d",
            "_dom_classes": [],
            "description": "",
            "_model_name": "FloatProgressModel",
            "bar_style": "success",
            "max": 849,
            "_view_module": "@jupyter-widgets/controls",
            "_model_module_version": "1.5.0",
            "value": 849,
            "_view_count": null,
            "_view_module_version": "1.5.0",
            "orientation": "horizontal",
            "min": 0,
            "description_tooltip": null,
            "_model_module": "@jupyter-widgets/controls",
            "layout": "IPY_MODEL_f4a976af587c48fbb1f52da0f39feed0"
          }
        },
        "67d8e247be7449e1af3fb3688215083a": {
          "model_module": "@jupyter-widgets/controls",
          "model_name": "HTMLModel",
          "model_module_version": "1.5.0",
          "state": {
            "_view_name": "HTMLView",
            "style": "IPY_MODEL_5ce4914f25be4342aec4d8ca3f0a50d6",
            "_dom_classes": [],
            "description": "",
            "_model_name": "HTMLModel",
            "placeholder": "​",
            "_view_module": "@jupyter-widgets/controls",
            "_model_module_version": "1.5.0",
            "value": " 849/849 [00:00&lt;00:00, 21548.82it/s]",
            "_view_count": null,
            "_view_module_version": "1.5.0",
            "description_tooltip": null,
            "_model_module": "@jupyter-widgets/controls",
            "layout": "IPY_MODEL_a44b1353c708476caea7a01f95508d16"
          }
        },
        "3ab1667b9188479690745e7f0378664b": {
          "model_module": "@jupyter-widgets/controls",
          "model_name": "DescriptionStyleModel",
          "model_module_version": "1.5.0",
          "state": {
            "_view_name": "StyleView",
            "_model_name": "DescriptionStyleModel",
            "description_width": "",
            "_view_module": "@jupyter-widgets/base",
            "_model_module_version": "1.5.0",
            "_view_count": null,
            "_view_module_version": "1.2.0",
            "_model_module": "@jupyter-widgets/controls"
          }
        },
        "e64e81a2be6d42e7abde216fd5d89a1a": {
          "model_module": "@jupyter-widgets/base",
          "model_name": "LayoutModel",
          "model_module_version": "1.2.0",
          "state": {
            "_view_name": "LayoutView",
            "grid_template_rows": null,
            "right": null,
            "justify_content": null,
            "_view_module": "@jupyter-widgets/base",
            "overflow": null,
            "_model_module_version": "1.2.0",
            "_view_count": null,
            "flex_flow": null,
            "width": null,
            "min_width": null,
            "border": null,
            "align_items": null,
            "bottom": null,
            "_model_module": "@jupyter-widgets/base",
            "top": null,
            "grid_column": null,
            "overflow_y": null,
            "overflow_x": null,
            "grid_auto_flow": null,
            "grid_area": null,
            "grid_template_columns": null,
            "flex": null,
            "_model_name": "LayoutModel",
            "justify_items": null,
            "grid_row": null,
            "max_height": null,
            "align_content": null,
            "visibility": null,
            "align_self": null,
            "height": null,
            "min_height": null,
            "padding": null,
            "grid_auto_rows": null,
            "grid_gap": null,
            "max_width": null,
            "order": null,
            "_view_module_version": "1.2.0",
            "grid_template_areas": null,
            "object_position": null,
            "object_fit": null,
            "grid_auto_columns": null,
            "margin": null,
            "display": null,
            "left": null
          }
        },
        "f5240c2b596a4a9681b5cd976934df7d": {
          "model_module": "@jupyter-widgets/controls",
          "model_name": "ProgressStyleModel",
          "model_module_version": "1.5.0",
          "state": {
            "_view_name": "StyleView",
            "_model_name": "ProgressStyleModel",
            "description_width": "",
            "_view_module": "@jupyter-widgets/base",
            "_model_module_version": "1.5.0",
            "_view_count": null,
            "_view_module_version": "1.2.0",
            "bar_color": null,
            "_model_module": "@jupyter-widgets/controls"
          }
        },
        "f4a976af587c48fbb1f52da0f39feed0": {
          "model_module": "@jupyter-widgets/base",
          "model_name": "LayoutModel",
          "model_module_version": "1.2.0",
          "state": {
            "_view_name": "LayoutView",
            "grid_template_rows": null,
            "right": null,
            "justify_content": null,
            "_view_module": "@jupyter-widgets/base",
            "overflow": null,
            "_model_module_version": "1.2.0",
            "_view_count": null,
            "flex_flow": null,
            "width": null,
            "min_width": null,
            "border": null,
            "align_items": null,
            "bottom": null,
            "_model_module": "@jupyter-widgets/base",
            "top": null,
            "grid_column": null,
            "overflow_y": null,
            "overflow_x": null,
            "grid_auto_flow": null,
            "grid_area": null,
            "grid_template_columns": null,
            "flex": null,
            "_model_name": "LayoutModel",
            "justify_items": null,
            "grid_row": null,
            "max_height": null,
            "align_content": null,
            "visibility": null,
            "align_self": null,
            "height": null,
            "min_height": null,
            "padding": null,
            "grid_auto_rows": null,
            "grid_gap": null,
            "max_width": null,
            "order": null,
            "_view_module_version": "1.2.0",
            "grid_template_areas": null,
            "object_position": null,
            "object_fit": null,
            "grid_auto_columns": null,
            "margin": null,
            "display": null,
            "left": null
          }
        },
        "5ce4914f25be4342aec4d8ca3f0a50d6": {
          "model_module": "@jupyter-widgets/controls",
          "model_name": "DescriptionStyleModel",
          "model_module_version": "1.5.0",
          "state": {
            "_view_name": "StyleView",
            "_model_name": "DescriptionStyleModel",
            "description_width": "",
            "_view_module": "@jupyter-widgets/base",
            "_model_module_version": "1.5.0",
            "_view_count": null,
            "_view_module_version": "1.2.0",
            "_model_module": "@jupyter-widgets/controls"
          }
        },
        "a44b1353c708476caea7a01f95508d16": {
          "model_module": "@jupyter-widgets/base",
          "model_name": "LayoutModel",
          "model_module_version": "1.2.0",
          "state": {
            "_view_name": "LayoutView",
            "grid_template_rows": null,
            "right": null,
            "justify_content": null,
            "_view_module": "@jupyter-widgets/base",
            "overflow": null,
            "_model_module_version": "1.2.0",
            "_view_count": null,
            "flex_flow": null,
            "width": null,
            "min_width": null,
            "border": null,
            "align_items": null,
            "bottom": null,
            "_model_module": "@jupyter-widgets/base",
            "top": null,
            "grid_column": null,
            "overflow_y": null,
            "overflow_x": null,
            "grid_auto_flow": null,
            "grid_area": null,
            "grid_template_columns": null,
            "flex": null,
            "_model_name": "LayoutModel",
            "justify_items": null,
            "grid_row": null,
            "max_height": null,
            "align_content": null,
            "visibility": null,
            "align_self": null,
            "height": null,
            "min_height": null,
            "padding": null,
            "grid_auto_rows": null,
            "grid_gap": null,
            "max_width": null,
            "order": null,
            "_view_module_version": "1.2.0",
            "grid_template_areas": null,
            "object_position": null,
            "object_fit": null,
            "grid_auto_columns": null,
            "margin": null,
            "display": null,
            "left": null
          }
        }
      }
    }
  },
  "cells": [
    {
      "cell_type": "markdown",
      "metadata": {
        "id": "u0lnetGQouQJ"
      },
      "source": [
        "# Clasificación de imágenes con redes profundas"
      ]
    },
    {
      "cell_type": "markdown",
      "metadata": {
        "id": "o7b1lG9ROSCj"
      },
      "source": [
        "*Por Ernesto Ignacio Borbón Martínez, Luis Felipe Villaseñor Navarrete, José de Jesús Gutiérrez Aldrete y Gerardo Villegas Contreras*"
      ]
    },
    {
      "cell_type": "markdown",
      "metadata": {
        "id": "cPQWRCaHLy64"
      },
      "source": [
        "Es la hora de la verdad. Anteriormente habíamos utilizado métodos clásicos y modelos perceptrón multicapa para clasificar imágenes usando como entrada a los pixeles de las mismas y a unos descriptores. Hubo modelos satisfactorios y otros lejos de ser exitosos. En esta ocasión continuando con este caminar de la clasificación de imágenes, evaluaremos modelos basados en redes neuronales convolucionales.\n",
        "\n",
        "Las imágenes que utilizaremos serán unas antiguas conocidas: el conjunto de datos Fashion, el conjunto Emojis y el conjunto Navigability."
      ]
    },
    {
      "cell_type": "markdown",
      "metadata": {
        "id": "fU80LpTvNSED"
      },
      "source": [
        "## Las bases de datos"
      ]
    },
    {
      "cell_type": "markdown",
      "metadata": {
        "id": "vp6F1bb4NT4r"
      },
      "source": [
        "Vamos a recordar en qué consistían los conjuntos de datos:\n",
        "\n",
        "El primero es el conjunto de datos Fashion-MNIST, el cual consiste de 70,000 imágenes (60,000 de entrenamiento y 10,000 de prueba) de 10 diferentes prendas de vestir en escala de grises con un tamaño de 28x28, acompañado de sus etiquetas. Sus clases son:\n",
        "\n",
        "* 0 T-shirt/top-Playera \n",
        "* 1 Trouser-Pantalón\n",
        "* 2 Pullover-Suéter\n",
        "* 3 Dress-Vestido\n",
        "* 4 Coat-Abrigo\n",
        "* 5 Sandal-Sandalia\n",
        "* 6 Shirt-Camisa\n",
        "* 7 Sneaker-Tenis\n",
        "* 8 Bag-Bolsos\n",
        "* 9 Ankle boot-Calzado alto\n",
        "\n",
        "El segundo conjunto de datos consiste en 2470 imágenes binarias de emojis dibujados a mano con un tamaño de 32x32. Los diferentes emojis en la base de datos son caritas enojadas (clase 1) felices (2), tristes (4), sorprendidas (5) y el emoji de popó (clase 3). \n",
        "\n",
        "El tercer y último conjunto de datos, que nombramos Navigability o Navegabilidad, consta de 2000 secciones de imágenes de mapas de elevación de la superficie de Marte tomadas del sitio de HiRISE. Cada registro en el conjunto de datos contiene cuatro imágenes de un área de 200m x 200m acompañados de un indicador de qué tan navegable es esa zona en una escala del 1 al 4 (1: Muy poco navegable – 4: Muy navegable). La primera imagen contiene las alturas, la segunda es un gradiente, la tercera indica las elevaciones en el área y la cuarta las depresiones.\n",
        "\n",
        "Puedes encontrar el código de este blog junto con las bases de datos emojis y navigability en https://github.com/ShoyChoy/clasificacion-profunda.git\n"
      ]
    },
    {
      "cell_type": "markdown",
      "metadata": {
        "id": "tvOWuZ45L5Fs"
      },
      "source": [
        "## Procedimientos preliminares"
      ]
    },
    {
      "cell_type": "markdown",
      "metadata": {
        "id": "JWJ_JlTUMBGY"
      },
      "source": [
        "Importación de librerías."
      ]
    },
    {
      "cell_type": "code",
      "metadata": {
        "id": "-c8DkXg1Fo4k"
      },
      "source": [
        "import matplotlib.pyplot as plt\n",
        "import numpy as np\n",
        "import pickle\n",
        "\n",
        "from sklearn.model_selection import KFold\n",
        "from sklearn.metrics import accuracy_score, recall_score, mean_squared_error\n",
        "\n",
        "import tensorflow as tf\n",
        "from tensorflow.keras import layers, models\n",
        "\n",
        "from tqdm.notebook import trange"
      ],
      "execution_count": null,
      "outputs": []
    },
    {
      "cell_type": "markdown",
      "metadata": {
        "id": "6fCQqcHgMCjI"
      },
      "source": [
        "Carga de datos."
      ]
    },
    {
      "cell_type": "code",
      "metadata": {
        "id": "kmK0v0JtpEip"
      },
      "source": [
        "fashion_mnist = keras.datasets.fashion_mnist\n",
        "(fashion_tr_im,fashion_tr_lab),(fashion_test_im,fashion_test_lab) = fashion_mnist.load_data()"
      ],
      "execution_count": null,
      "outputs": []
    },
    {
      "cell_type": "code",
      "metadata": {
        "id": "JvFxcE8opSiB"
      },
      "source": [
        "emojis = np.loadtxt(\"emojis.txt\") \n",
        "x_emojis = emojis[:,1:]\n",
        "y_emojis = emojis[:,0]\n",
        "y_emojis -= 1"
      ],
      "execution_count": null,
      "outputs": []
    },
    {
      "cell_type": "code",
      "metadata": {
        "id": "zThV9-88pVev"
      },
      "source": [
        "inputFile = open('navigability.obj', 'rb')\n",
        "nav = pickle.load(inputFile)"
      ],
      "execution_count": null,
      "outputs": []
    },
    {
      "cell_type": "markdown",
      "metadata": {
        "id": "4OTxBXCwMIVa"
      },
      "source": [
        "Para poder utilizar estos datos en los modelos de a continuación, es necesario realizar unos ajustes. En primer lugar pasar los vectores del conjunto Emojis a matrices de 32x32; y en segundo lugar dividir los datos del conjunto Navigability en las entradas y las salidas."
      ]
    },
    {
      "cell_type": "code",
      "metadata": {
        "id": "vNC6kk0_raJ8"
      },
      "source": [
        "reshaped_x_emo = []\n",
        "for i in range(x_emojis.shape[0]):\n",
        "  reshaped_x_emo.append(x_emojis[i,:].reshape(32,32))\n",
        "x_emojis = np.array(reshaped_x_emo)"
      ],
      "execution_count": null,
      "outputs": []
    },
    {
      "cell_type": "code",
      "metadata": {
        "colab": {
          "base_uri": "https://localhost:8080/",
          "height": 49,
          "referenced_widgets": [
            "cfc7401c56b14e14b9a853e66bee26b4",
            "35eabce6adfd48708ffa2a15bac0dabd",
            "e925c5d5c8874c9d89bd8aa76cb441af",
            "10f8a4b0338c4c408f27bf3468d7f32f",
            "67d8e247be7449e1af3fb3688215083a",
            "3ab1667b9188479690745e7f0378664b",
            "e64e81a2be6d42e7abde216fd5d89a1a",
            "f5240c2b596a4a9681b5cd976934df7d",
            "f4a976af587c48fbb1f52da0f39feed0",
            "5ce4914f25be4342aec4d8ca3f0a50d6",
            "a44b1353c708476caea7a01f95508d16"
          ]
        },
        "id": "9hdcgUgxwJYc",
        "outputId": "51bd4ac4-a5d1-43ff-c3e2-56bac4064032"
      },
      "source": [
        "x_nav = []\n",
        "y_nav = []\n",
        "for i in trange(len(nav)):\n",
        "  x_nav.append(nav[i][2:])\n",
        "  y_nav.append(nav[i][0])\n",
        "x_nav = np.array(x_nav)\n",
        "y_nav = np.array(y_nav)"
      ],
      "execution_count": null,
      "outputs": [
        {
          "output_type": "display_data",
          "data": {
            "application/vnd.jupyter.widget-view+json": {
              "model_id": "cfc7401c56b14e14b9a853e66bee26b4",
              "version_minor": 0,
              "version_major": 2
            },
            "text/plain": [
              "  0%|          | 0/849 [00:00<?, ?it/s]"
            ]
          },
          "metadata": {}
        }
      ]
    },
    {
      "cell_type": "code",
      "metadata": {
        "id": "8iQa-KNIAb6O"
      },
      "source": [
        "x_nav = x_nav.reshape(849,20,20,4)"
      ],
      "execution_count": null,
      "outputs": []
    },
    {
      "cell_type": "markdown",
      "metadata": {
        "id": "6qQBtArMNRZm"
      },
      "source": [
        "## Evaluación de redes neuronales convolucionales"
      ]
    },
    {
      "cell_type": "markdown",
      "metadata": {
        "id": "ME1Rvx2EiF97"
      },
      "source": [
        "Las redes neuronales creadas para los datos de Fashion y Emojis tienen 2 capas de convolución (con kernel de 3x3) seguidas de 2 capas de Max-Pooling (tamaño de 2x2) y una última capa de convolución de la cual continúa el flatten para poder ser alimentados a las capas “fully-conected” donde la primera tiene una función de activación relu y la última es la de salida. \n",
        "\n",
        "Para los datos de Fashion la primera capa tiene una entrada (28, 28, 1) donde 28 es el tamaño de las imágenes y 1 es la dimensión. Mientras que para emojis usa una entrada de (32, 32, 1). La red para los datos de Navigability tiene una entrada de (20, 20, 4) donde 20x20 es el tamaño de las imágenes y 4 es la dimensión por las 4 imágenes que tiene cada registro, es muy similar a las anteriores, pero a diferencia de ellas su capa de salida tiene una función de activación lineal. Esto porque, como recordarás, este problema puede tratarse como uno de regresión.\n",
        "\n",
        "De esta manera, los modelos para Fashion y Emojis se evalúan con la exactitud y la sensbilidad/recall por clase, mientras que el modelo para Navigability se evalúa con el error cuadrado medio."
      ]
    },
    {
      "cell_type": "markdown",
      "metadata": {
        "id": "_UC7MOyjuZa0"
      },
      "source": [
        "### Fashion"
      ]
    },
    {
      "cell_type": "code",
      "metadata": {
        "id": "1Hqw4PS2ua8B"
      },
      "source": [
        "model = models.Sequential()\n",
        "model.add(layers.Conv2D(32, (3, 3), activation='relu', input_shape=(28, 28, 1)))\n",
        "model.add(layers.MaxPooling2D((2, 2)))\n",
        "model.add(layers.Conv2D(64, (3, 3), activation='relu'))\n",
        "model.add(layers.MaxPooling2D((2, 2)))\n",
        "model.add(layers.Conv2D(64, (3, 3), activation='relu'))"
      ],
      "execution_count": null,
      "outputs": []
    },
    {
      "cell_type": "code",
      "metadata": {
        "id": "AY0Ii_7EueCA"
      },
      "source": [
        "model.add(layers.Flatten())\n",
        "model.add(layers.Dense(64, activation='relu'))\n",
        "model.add(layers.Dense(10))"
      ],
      "execution_count": null,
      "outputs": []
    },
    {
      "cell_type": "code",
      "metadata": {
        "id": "kOtPu6pKufHo"
      },
      "source": [
        "model.compile(optimizer='adam',\n",
        "              loss=tf.keras.losses.SparseCategoricalCrossentropy(from_logits=True),\n",
        "              metrics=['accuracy'])"
      ],
      "execution_count": null,
      "outputs": []
    },
    {
      "cell_type": "code",
      "metadata": {
        "id": "-dV092-pTWKR"
      },
      "source": [
        "model.fit(fashion_tr_im,fashion_tr_lab, epochs=15)"
      ],
      "execution_count": null,
      "outputs": []
    },
    {
      "cell_type": "code",
      "metadata": {
        "id": "C5lleygpurIM"
      },
      "source": [
        "y_pred = model.predict(fashion_test_im)\n",
        "y_pred = np.argmax(y_pred, axis=-1)"
      ],
      "execution_count": null,
      "outputs": []
    },
    {
      "cell_type": "code",
      "metadata": {
        "id": "giT--q5eu-0d"
      },
      "source": [
        "acc = accuracy_score(fashion_test_lab, y_pred)\n",
        "rec = recall_score(fashion_test_lab, y_pred, average = None)"
      ],
      "execution_count": null,
      "outputs": []
    },
    {
      "cell_type": "code",
      "metadata": {
        "colab": {
          "base_uri": "https://localhost:8080/"
        },
        "id": "5VZp0NwJvD63",
        "outputId": "8f3a58ed-f668-4a82-f081-e2783962b489"
      },
      "source": [
        "print('Accuracy: ', acc)\n",
        "print('Recall: ', rec)"
      ],
      "execution_count": null,
      "outputs": [
        {
          "output_type": "stream",
          "name": "stdout",
          "text": [
            "Accuracy:  0.8951\n",
            "Recall:  [0.847 0.979 0.852 0.925 0.786 0.986 0.686 0.963 0.982 0.945]\n"
          ]
        }
      ]
    },
    {
      "cell_type": "markdown",
      "metadata": {
        "id": "oWEWdiz5uV6j"
      },
      "source": [
        "### Emojis"
      ]
    },
    {
      "cell_type": "code",
      "metadata": {
        "id": "GU38OMEUp06o"
      },
      "source": [
        "model = models.Sequential()\n",
        "model.add(layers.Conv2D(32, (3, 3), activation='relu', input_shape=(32, 32, 1)))\n",
        "model.add(layers.MaxPooling2D((2, 2)))\n",
        "model.add(layers.Conv2D(64, (3, 3), activation='relu'))\n",
        "model.add(layers.MaxPooling2D((2, 2)))\n",
        "model.add(layers.Conv2D(64, (3, 3), activation='relu'))"
      ],
      "execution_count": null,
      "outputs": []
    },
    {
      "cell_type": "code",
      "metadata": {
        "id": "4Go65yUeqJBr"
      },
      "source": [
        "model.add(layers.Flatten())\n",
        "model.add(layers.Dense(64, activation='relu'))\n",
        "model.add(layers.Dense(5))"
      ],
      "execution_count": null,
      "outputs": []
    },
    {
      "cell_type": "code",
      "metadata": {
        "id": "2Z4j_zFnqOPL"
      },
      "source": [
        "model.compile(optimizer='adam',\n",
        "              loss=tf.keras.losses.SparseCategoricalCrossentropy(from_logits=True),\n",
        "              metrics=['accuracy'])\n",
        "\n",
        "folds = 5\n",
        "kf = KFold(n_splits= folds, shuffle= True)"
      ],
      "execution_count": null,
      "outputs": []
    },
    {
      "cell_type": "code",
      "metadata": {
        "id": "33GLNIusPHlO"
      },
      "source": [
        "accs = []\n",
        "recs = []\n",
        "for train_index, test_index in kf.split(x_emojis):\n",
        "  model.fit(x_emojis[train_index], y_emojis[train_index], epochs=15)\n",
        "  y_pred_emoji = model.predict(x_emojis[test_index])\n",
        "  y_pred_emoji = np.argmax(y_pred_emoji, axis=-1)\n",
        "  accs.append(accuracy_score(y_emojis[test_index], y_pred_emoji))\n",
        "  recs.append(recall_score(y_emojis[test_index], y_pred_emoji, average = None))"
      ],
      "execution_count": null,
      "outputs": []
    },
    {
      "cell_type": "code",
      "metadata": {
        "colab": {
          "base_uri": "https://localhost:8080/"
        },
        "id": "iJMnMhGqtYOn",
        "outputId": "cc1c143d-ccb4-4c08-bfc6-4422b9ede860"
      },
      "source": [
        "np.mean(accs)"
      ],
      "execution_count": null,
      "outputs": [
        {
          "output_type": "execute_result",
          "data": {
            "text/plain": [
              "0.9894736842105264"
            ]
          },
          "metadata": {},
          "execution_count": 156
        }
      ]
    },
    {
      "cell_type": "code",
      "metadata": {
        "colab": {
          "base_uri": "https://localhost:8080/"
        },
        "id": "C_5XDCfYsbSy",
        "outputId": "19011e5b-a989-48e3-aa7d-e158492ada6e"
      },
      "source": [
        "recsA = np.mean(recs, axis = 0)\n",
        "recsA"
      ],
      "execution_count": null,
      "outputs": [
        {
          "output_type": "execute_result",
          "data": {
            "text/plain": [
              "array([0.9742803 , 0.9962963 , 1.        , 0.98523322, 0.99191919])"
            ]
          },
          "metadata": {},
          "execution_count": 157
        }
      ]
    },
    {
      "cell_type": "markdown",
      "metadata": {
        "id": "u4tJEVNpuXo6"
      },
      "source": [
        "### Navegabilidad"
      ]
    },
    {
      "cell_type": "code",
      "metadata": {
        "id": "KHnG2jJEuRtG"
      },
      "source": [
        "model = models.Sequential()\n",
        "model.add(layers.Conv2D(32, (3, 3), activation='relu', input_shape=(20, 20, 4)))\n",
        "model.add(layers.MaxPooling2D((2, 2)))\n",
        "model.add(layers.Conv2D(64, (3, 3), activation='relu'))\n",
        "model.add(layers.MaxPooling2D((2, 2)))\n",
        "model.add(layers.Conv2D(64, (3, 3), activation='relu'))"
      ],
      "execution_count": null,
      "outputs": []
    },
    {
      "cell_type": "code",
      "metadata": {
        "id": "P112Kt8EAkwO"
      },
      "source": [
        "model.add(layers.Flatten())\n",
        "model.add(layers.Dense(64, activation='relu'))\n",
        "model.add(layers.Dense(1, activation='linear'))"
      ],
      "execution_count": null,
      "outputs": []
    },
    {
      "cell_type": "code",
      "metadata": {
        "id": "mzTaXqmLy__d"
      },
      "source": [
        "model.compile(optimizer='adam',\n",
        "              loss='mse',\n",
        "              metrics='mse')\n",
        "\n",
        "folds = 5\n",
        "kf = KFold(n_splits= folds, shuffle= True)"
      ],
      "execution_count": null,
      "outputs": []
    },
    {
      "cell_type": "code",
      "metadata": {
        "id": "-2wvLR9QzErk"
      },
      "source": [
        "mse = []\n",
        "for train_index, test_index in kf.split(x_nav):\n",
        "  model.fit(x_nav[train_index], y_nav[train_index], epochs=30, verbose=False)\n",
        "  y_pred = model.predict(x_nav[test_index])\n",
        "  mse.append(mean_squared_error(y_nav[test_index], y_pred))"
      ],
      "execution_count": null,
      "outputs": []
    },
    {
      "cell_type": "code",
      "metadata": {
        "colab": {
          "base_uri": "https://localhost:8080/"
        },
        "id": "veYkNOK971zl",
        "outputId": "c323d319-6fab-424b-db2c-8faa3852712d"
      },
      "source": [
        "print('MSE: ', np.mean(mse))"
      ],
      "execution_count": null,
      "outputs": [
        {
          "output_type": "stream",
          "name": "stdout",
          "text": [
            "MSE:  0.3367238746278761\n"
          ]
        }
      ]
    },
    {
      "cell_type": "markdown",
      "metadata": {
        "id": "lLrVH0UjfSXR"
      },
      "source": [
        "## Resultados"
      ]
    },
    {
      "cell_type": "markdown",
      "metadata": {
        "id": "poFggsXgfStm"
      },
      "source": [
        "Se obtuvieron resultados sobresalientes tanto en los problemas de clasificación como en el de regresión. Con el conjunto de datos Fashion, se obtuvo una exactitud del 90%, alcanzando los mayores recalls en las clases 0, 1, 3, 5, 7, 8 y 9 (T-shirts/top, pantalones, vestidos, sandalias, tenis y zapatos altos) con valores entre 92% y 99%, mientras que el peor recall por mucho lo obtuvo la clase 6 (camisas) con un valor de 67%.\n",
        "\n",
        "Por otro lado, con el conjunto de datos de los Emojis se obtuvieron aún mejores resultados. La exactitud fue del 99% y todos los recalls fueron mayores al 97%. El peor recall fue el de la clase 1 (caritas enojadas) con 97% y el mejor fue el de la clase 3 (emoji de popó) con un sorprendente 100%.\n",
        "\n",
        "Finalmente, el modelo de regresión con el conjunto de datos de las imágenes de Marte obtuvo un error cuadrado medio de 0.34, el cual es satisfactorio.\n"
      ]
    }
  ]
}